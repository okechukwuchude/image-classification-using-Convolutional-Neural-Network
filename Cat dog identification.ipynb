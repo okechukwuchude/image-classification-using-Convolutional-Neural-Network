{
 "cells": [
  {
   "cell_type": "code",
   "execution_count": 2,
   "id": "cedbc2bc-54a8-45a2-afba-8335bac9f875",
   "metadata": {},
   "outputs": [
    {
     "data": {
      "text/plain": [
       "'C:\\\\Users\\\\okechukwu chude\\\\Documents\\\\Neural Network\\\\Convolutional Neural Network\\\\Convolutional-Neural-Network'"
      ]
     },
     "execution_count": 2,
     "metadata": {},
     "output_type": "execute_result"
    }
   ],
   "source": [
    "pwd"
   ]
  },
  {
   "cell_type": "markdown",
   "id": "e8d2277a-dc78-48d9-a036-cd26cf19d163",
   "metadata": {},
   "source": [
    "Building The CNN"
   ]
  },
  {
   "cell_type": "code",
   "execution_count": 8,
   "id": "10c0ab76-3b71-4d80-8c4b-a218c967063d",
   "metadata": {},
   "outputs": [],
   "source": [
    "from keras.models import Sequential #required to initialise ann\n",
    "from keras.layers import Conv2D #required to add the convolution layers\n",
    "from keras.layers import MaxPooling2D #required to add pooling layers\n",
    "from keras.layers import Flatten\n",
    "from keras.layers import Dense # required to build laters of ann"
   ]
  },
  {
   "cell_type": "markdown",
   "id": "dc9f6be4-a12b-4b88-9942-7909cdfbfda7",
   "metadata": {},
   "source": [
    "Initializing the CNN"
   ]
  },
  {
   "cell_type": "code",
   "execution_count": 9,
   "id": "fab68263-b3b5-43be-b39e-90e07685331c",
   "metadata": {},
   "outputs": [],
   "source": [
    "classifier = Sequential()"
   ]
  },
  {
   "cell_type": "markdown",
   "id": "cf192ff1-b8e2-47f3-b5e4-37192af4db6d",
   "metadata": {},
   "source": [
    "Step 1 Convolution"
   ]
  },
  {
   "cell_type": "code",
   "execution_count": null,
   "id": "0eb6dd2d-4298-49ce-aaa0-c4210e3b3f26",
   "metadata": {},
   "outputs": [],
   "source": []
  }
 ],
 "metadata": {
  "kernelspec": {
   "display_name": "Python 3 (ipykernel)",
   "language": "python",
   "name": "python3"
  },
  "language_info": {
   "codemirror_mode": {
    "name": "ipython",
    "version": 3
   },
   "file_extension": ".py",
   "mimetype": "text/x-python",
   "name": "python",
   "nbconvert_exporter": "python",
   "pygments_lexer": "ipython3",
   "version": "3.11.4"
  }
 },
 "nbformat": 4,
 "nbformat_minor": 5
}
