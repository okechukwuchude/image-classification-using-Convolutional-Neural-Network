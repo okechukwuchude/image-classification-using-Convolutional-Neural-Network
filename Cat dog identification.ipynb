{
 "cells": [
  {
   "cell_type": "code",
   "execution_count": 1,
   "id": "cedbc2bc-54a8-45a2-afba-8335bac9f875",
   "metadata": {},
   "outputs": [
    {
     "data": {
      "text/plain": [
       "'C:\\\\Users\\\\okechukwu chude\\\\Documents\\\\Neural Network\\\\Convolutional Neural Network\\\\Convolutional-Neural-Network'"
      ]
     },
     "execution_count": 1,
     "metadata": {},
     "output_type": "execute_result"
    }
   ],
   "source": [
    "pwd"
   ]
  },
  {
   "cell_type": "markdown",
   "id": "e8d2277a-dc78-48d9-a036-cd26cf19d163",
   "metadata": {},
   "source": [
    "Building The CNN"
   ]
  },
  {
   "cell_type": "code",
   "execution_count": 2,
   "id": "10c0ab76-3b71-4d80-8c4b-a218c967063d",
   "metadata": {},
   "outputs": [],
   "source": [
    "from keras.models import Sequential #required to initialise ann\n",
    "from keras.layers import Conv2D #required to add the convolution layers\n",
    "from keras.layers import MaxPooling2D #required to add pooling layers\n",
    "from keras.layers import Flatten\n",
    "from keras.layers import Dense # required to build laters of ann"
   ]
  },
  {
   "cell_type": "markdown",
   "id": "dc9f6be4-a12b-4b88-9942-7909cdfbfda7",
   "metadata": {},
   "source": [
    "Initializing the CNN"
   ]
  },
  {
   "cell_type": "code",
   "execution_count": 3,
   "id": "fab68263-b3b5-43be-b39e-90e07685331c",
   "metadata": {},
   "outputs": [],
   "source": [
    "classifier = Sequential()"
   ]
  },
  {
   "cell_type": "markdown",
   "id": "cf192ff1-b8e2-47f3-b5e4-37192af4db6d",
   "metadata": {},
   "source": [
    "Step 1 Convolution"
   ]
  },
  {
   "cell_type": "code",
   "execution_count": 4,
   "id": "0eb6dd2d-4298-49ce-aaa0-c4210e3b3f26",
   "metadata": {},
   "outputs": [],
   "source": [
    "classifier.add(Conv2D(32 ,3 ,3, input_shape = (64, 64, 3), activation = 'relu'))"
   ]
  },
  {
   "cell_type": "markdown",
   "id": "aa52bbf5-6d43-448b-a2a9-c18858a7fe1d",
   "metadata": {},
   "source": [
    "Step 2 pooling"
   ]
  },
  {
   "cell_type": "code",
   "execution_count": 5,
   "id": "851bd31d-fe8e-47ee-b7b2-db5c26a45f18",
   "metadata": {},
   "outputs": [],
   "source": [
    "classifier.add(MaxPooling2D(pool_size = (2, 2)))"
   ]
  },
  {
   "cell_type": "markdown",
   "id": "37e04274-a8df-4f05-9585-5e9ed70ebb01",
   "metadata": {},
   "source": [
    "Step 3 flattening"
   ]
  },
  {
   "cell_type": "code",
   "execution_count": 6,
   "id": "9cdb21fc-783e-402a-b651-8e52a9f3d9d2",
   "metadata": {},
   "outputs": [],
   "source": [
    "classifier.add(Flatten())"
   ]
  },
  {
   "cell_type": "markdown",
   "id": "a037d520-e7b2-451d-992b-60f56cd197cd",
   "metadata": {},
   "source": [
    "step 4 full connection"
   ]
  },
  {
   "cell_type": "code",
   "execution_count": 7,
   "id": "9ae8ff51-1724-446f-a424-71a44ef49350",
   "metadata": {},
   "outputs": [],
   "source": [
    "classifier.add(Dense(units = 128, activation = 'relu'))"
   ]
  },
  {
   "cell_type": "code",
   "execution_count": 8,
   "id": "8b6b742c-cab3-44ee-8e0c-c139c9241f50",
   "metadata": {},
   "outputs": [],
   "source": [
    "classifier.add(Dense(units = 1, activation = 'sigmoid'))"
   ]
  },
  {
   "cell_type": "markdown",
   "id": "49380bb1-a703-4bd0-b8fb-1bf3477807e1",
   "metadata": {},
   "source": [
    "compile the CNN"
   ]
  },
  {
   "cell_type": "code",
   "execution_count": 9,
   "id": "7d606e67-9c0d-4fb3-8778-493e80812993",
   "metadata": {},
   "outputs": [],
   "source": [
    "classifier.compile(optimizer= 'adam', loss = 'binary_crossentropy', metrics = ['accuracy'])"
   ]
  },
  {
   "cell_type": "markdown",
   "id": "464dab12-e879-4a40-aa31-b314e649c46d",
   "metadata": {},
   "source": [
    "Part 2 - fitting the CNN to the Images"
   ]
  },
  {
   "cell_type": "code",
   "execution_count": 10,
   "id": "7a34bc60-2bb2-44ad-87d1-585b1fbf40b0",
   "metadata": {},
   "outputs": [],
   "source": [
    "from keras.preprocessing.image import ImageDataGenerator"
   ]
  },
  {
   "cell_type": "code",
   "execution_count": 11,
   "id": "e62523eb-012c-4820-93fd-a4e4b0835222",
   "metadata": {},
   "outputs": [],
   "source": [
    "#Processing the Training Set\n",
    "train_datagen = ImageDataGenerator(rescale = 1./255,\n",
    "                                   shear_range = 0.2,\n",
    "                                   zoom_range = 0.2,\n",
    "                                   horizontal_flip = True)"
   ]
  },
  {
   "cell_type": "code",
   "execution_count": 12,
   "id": "160c574c-2b49-49cb-a7c0-630a2644fae8",
   "metadata": {},
   "outputs": [],
   "source": [
    "test_datagen = ImageDataGenerator(rescale = 1./255)"
   ]
  },
  {
   "cell_type": "code",
   "execution_count": 13,
   "id": "e63a90f5-ecd7-4048-a4cc-422becc42543",
   "metadata": {},
   "outputs": [
    {
     "name": "stdout",
     "output_type": "stream",
     "text": [
      "Found 8000 images belonging to 2 classes.\n"
     ]
    }
   ],
   "source": [
    "#Processing the Test Set\n",
    "training_set = train_datagen.flow_from_directory('dataset/training_set',\n",
    "                                                 target_size = (64, 64),\n",
    "                                                 batch_size = 1,\n",
    "                                                 class_mode = 'binary')"
   ]
  },
  {
   "cell_type": "code",
   "execution_count": 14,
   "id": "3b786693-a69b-483f-b69e-caa45139ef0b",
   "metadata": {},
   "outputs": [
    {
     "name": "stdout",
     "output_type": "stream",
     "text": [
      "Found 2000 images belonging to 2 classes.\n"
     ]
    }
   ],
   "source": [
    "test_set = test_datagen.flow_from_directory('dataset/test_set',\n",
    "                                            target_size = (64, 64),\n",
    "                                            batch_size = 1,\n",
    "                                            class_mode = 'binary')"
   ]
  },
  {
   "cell_type": "code",
   "execution_count": 15,
   "id": "0d896a07-86c1-4d77-984b-d37be907db2b",
   "metadata": {
    "scrolled": true
   },
   "outputs": [
    {
     "name": "stdout",
     "output_type": "stream",
     "text": [
      "Epoch 1/25\n",
      "8000/8000 [==============================] - 92s 11ms/step - loss: 0.6643 - accuracy: 0.6091 - val_loss: 0.6154 - val_accuracy: 0.6740\n",
      "Epoch 2/25\n",
      "8000/8000 [==============================] - 90s 11ms/step - loss: 0.6218 - accuracy: 0.6505 - val_loss: 0.5950 - val_accuracy: 0.6855\n",
      "Epoch 3/25\n",
      "8000/8000 [==============================] - 75s 9ms/step - loss: 0.6042 - accuracy: 0.6687 - val_loss: 0.5864 - val_accuracy: 0.6970\n",
      "Epoch 4/25\n",
      "8000/8000 [==============================] - 72s 9ms/step - loss: 0.5961 - accuracy: 0.6781 - val_loss: 0.5768 - val_accuracy: 0.6980\n",
      "Epoch 5/25\n",
      "8000/8000 [==============================] - 74s 9ms/step - loss: 0.5790 - accuracy: 0.6925 - val_loss: 0.5951 - val_accuracy: 0.6875\n",
      "Epoch 6/25\n",
      "8000/8000 [==============================] - 73s 9ms/step - loss: 0.5682 - accuracy: 0.6956 - val_loss: 0.5715 - val_accuracy: 0.7100\n",
      "Epoch 7/25\n",
      "8000/8000 [==============================] - 72s 9ms/step - loss: 0.5602 - accuracy: 0.7122 - val_loss: 0.5710 - val_accuracy: 0.7125\n",
      "Epoch 8/25\n",
      "8000/8000 [==============================] - 72s 9ms/step - loss: 0.5538 - accuracy: 0.7169 - val_loss: 0.5757 - val_accuracy: 0.7080\n",
      "Epoch 9/25\n",
      "8000/8000 [==============================] - 72s 9ms/step - loss: 0.5468 - accuracy: 0.7243 - val_loss: 0.5596 - val_accuracy: 0.7215\n",
      "Epoch 10/25\n",
      "8000/8000 [==============================] - 71s 9ms/step - loss: 0.5449 - accuracy: 0.7253 - val_loss: 0.5627 - val_accuracy: 0.7245\n",
      "Epoch 11/25\n",
      "8000/8000 [==============================] - 72s 9ms/step - loss: 0.5353 - accuracy: 0.7311 - val_loss: 0.5676 - val_accuracy: 0.7230\n",
      "Epoch 12/25\n",
      "8000/8000 [==============================] - 73s 9ms/step - loss: 0.5255 - accuracy: 0.7336 - val_loss: 0.5723 - val_accuracy: 0.7310\n",
      "Epoch 13/25\n",
      "8000/8000 [==============================] - 72s 9ms/step - loss: 0.5202 - accuracy: 0.7398 - val_loss: 0.5820 - val_accuracy: 0.7115\n",
      "Epoch 14/25\n",
      "8000/8000 [==============================] - 73s 9ms/step - loss: 0.5139 - accuracy: 0.7410 - val_loss: 0.6134 - val_accuracy: 0.7170\n",
      "Epoch 15/25\n",
      "8000/8000 [==============================] - 73s 9ms/step - loss: 0.5071 - accuracy: 0.7454 - val_loss: 0.5763 - val_accuracy: 0.7210\n",
      "Epoch 16/25\n",
      "8000/8000 [==============================] - 75s 9ms/step - loss: 0.5005 - accuracy: 0.7600 - val_loss: 0.6010 - val_accuracy: 0.7090\n",
      "Epoch 17/25\n",
      "8000/8000 [==============================] - 75s 9ms/step - loss: 0.4999 - accuracy: 0.7514 - val_loss: 0.6038 - val_accuracy: 0.7045\n",
      "Epoch 18/25\n",
      "8000/8000 [==============================] - 75s 9ms/step - loss: 0.4830 - accuracy: 0.7661 - val_loss: 0.5851 - val_accuracy: 0.7140\n",
      "Epoch 19/25\n",
      "8000/8000 [==============================] - 74s 9ms/step - loss: 0.4838 - accuracy: 0.7650 - val_loss: 0.6007 - val_accuracy: 0.7235\n",
      "Epoch 20/25\n",
      "8000/8000 [==============================] - 61s 8ms/step - loss: 0.4698 - accuracy: 0.7806 - val_loss: 0.5880 - val_accuracy: 0.7235\n",
      "Epoch 21/25\n",
      "8000/8000 [==============================] - 61s 8ms/step - loss: 0.4679 - accuracy: 0.7706 - val_loss: 0.6189 - val_accuracy: 0.7170\n",
      "Epoch 22/25\n",
      "8000/8000 [==============================] - 61s 8ms/step - loss: 0.4646 - accuracy: 0.7784 - val_loss: 0.6564 - val_accuracy: 0.6980\n",
      "Epoch 23/25\n",
      "8000/8000 [==============================] - 61s 8ms/step - loss: 0.4609 - accuracy: 0.7782 - val_loss: 0.6413 - val_accuracy: 0.7125\n",
      "Epoch 24/25\n",
      "8000/8000 [==============================] - 61s 8ms/step - loss: 0.4539 - accuracy: 0.7869 - val_loss: 0.6457 - val_accuracy: 0.7310\n",
      "Epoch 25/25\n",
      "8000/8000 [==============================] - 72s 9ms/step - loss: 0.4522 - accuracy: 0.7854 - val_loss: 0.6328 - val_accuracy: 0.7095\n"
     ]
    },
    {
     "data": {
      "text/plain": [
       "<keras.src.callbacks.History at 0x270ee197c50>"
      ]
     },
     "execution_count": 15,
     "metadata": {},
     "output_type": "execute_result"
    }
   ],
   "source": [
    "classifier.fit(training_set,\n",
    "                    steps_per_epoch= 8000/1,\n",
    "                    epochs = 25,\n",
    "                    validation_data = test_set,\n",
    "                    validation_steps= 2000/1\n",
    "              )"
   ]
  },
  {
   "cell_type": "markdown",
   "id": "1b3ebb97-0153-4fa7-9c5f-193feb418eb4",
   "metadata": {},
   "source": [
    "Part 3 Making Prediction"
   ]
  },
  {
   "cell_type": "code",
   "execution_count": 16,
   "id": "e4ad9788-03cc-4c0b-a65a-77a30b4c2410",
   "metadata": {},
   "outputs": [],
   "source": [
    "import numpy as np\n",
    "from keras.preprocessing import image "
   ]
  },
  {
   "cell_type": "code",
   "execution_count": 17,
   "id": "e20d47ab-e7e3-4e60-a369-cb0d24d2a1c9",
   "metadata": {},
   "outputs": [],
   "source": [
    "test_image = image.load_img('dataset/single_prediction/cat_or_dog_1.jpg', target_size = (64,64))"
   ]
  },
  {
   "cell_type": "code",
   "execution_count": 18,
   "id": "8828994c-6b39-445e-bdbd-2244665c8859",
   "metadata": {},
   "outputs": [],
   "source": [
    "test_image = image.img_to_array(test_image)"
   ]
  },
  {
   "cell_type": "code",
   "execution_count": 19,
   "id": "40b8be89-96ec-4c96-a300-85f35280874a",
   "metadata": {},
   "outputs": [],
   "source": [
    "test_image = np.expand_dims(test_image, axis = 0)"
   ]
  },
  {
   "cell_type": "code",
   "execution_count": 21,
   "id": "9e9ff624-3601-40b1-a898-2ea206bd3a06",
   "metadata": {},
   "outputs": [
    {
     "name": "stdout",
     "output_type": "stream",
     "text": [
      "1/1 [==============================] - 0s 210ms/step\n"
     ]
    }
   ],
   "source": [
    "result = classifier.predict(test_image)"
   ]
  },
  {
   "cell_type": "code",
   "execution_count": 22,
   "id": "f0cc14af-12ee-48d4-b509-4981e733f151",
   "metadata": {},
   "outputs": [
    {
     "data": {
      "text/plain": [
       "{'cats': 0, 'dogs': 1}"
      ]
     },
     "execution_count": 22,
     "metadata": {},
     "output_type": "execute_result"
    }
   ],
   "source": [
    "training_set.class_indices"
   ]
  },
  {
   "cell_type": "code",
   "execution_count": 23,
   "id": "ee6cb85b-9131-4bc0-92eb-373cf41fb72b",
   "metadata": {},
   "outputs": [],
   "source": [
    "if result [0][0] == 1:\n",
    "    prediction = 'dog'\n",
    "else:\n",
    "    preciction = 'cat'"
   ]
  },
  {
   "cell_type": "code",
   "execution_count": null,
   "id": "be5e333f-2918-4011-a49d-9872525b8319",
   "metadata": {},
   "outputs": [],
   "source": []
  }
 ],
 "metadata": {
  "kernelspec": {
   "display_name": "Python 3 (ipykernel)",
   "language": "python",
   "name": "python3"
  },
  "language_info": {
   "codemirror_mode": {
    "name": "ipython",
    "version": 3
   },
   "file_extension": ".py",
   "mimetype": "text/x-python",
   "name": "python",
   "nbconvert_exporter": "python",
   "pygments_lexer": "ipython3",
   "version": "3.11.4"
  }
 },
 "nbformat": 4,
 "nbformat_minor": 5
}
