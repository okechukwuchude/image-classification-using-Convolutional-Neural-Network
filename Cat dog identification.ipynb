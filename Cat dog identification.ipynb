{
 "cells": [
  {
   "cell_type": "code",
   "execution_count": 1,
   "id": "cedbc2bc-54a8-45a2-afba-8335bac9f875",
   "metadata": {},
   "outputs": [
    {
     "data": {
      "text/plain": [
       "'C:\\\\Users\\\\okechukwu chude\\\\Documents\\\\Neural Network\\\\Convolutional Neural Network\\\\Convolutional-Neural-Network'"
      ]
     },
     "execution_count": 1,
     "metadata": {},
     "output_type": "execute_result"
    }
   ],
   "source": [
    "pwd"
   ]
  },
  {
   "cell_type": "markdown",
   "id": "e8d2277a-dc78-48d9-a036-cd26cf19d163",
   "metadata": {},
   "source": [
    "Building The CNN"
   ]
  },
  {
   "cell_type": "code",
   "execution_count": 2,
   "id": "10c0ab76-3b71-4d80-8c4b-a218c967063d",
   "metadata": {},
   "outputs": [],
   "source": [
    "from keras.models import Sequential #required to initialise ann\n",
    "from keras.layers import Conv2D #required to add the convolution layers\n",
    "from keras.layers import MaxPooling2D #required to add pooling layers\n",
    "from keras.layers import Flatten\n",
    "from keras.layers import Dense # required to build laters of ann"
   ]
  },
  {
   "cell_type": "markdown",
   "id": "dc9f6be4-a12b-4b88-9942-7909cdfbfda7",
   "metadata": {},
   "source": [
    "Initializing the CNN"
   ]
  },
  {
   "cell_type": "code",
   "execution_count": 3,
   "id": "fab68263-b3b5-43be-b39e-90e07685331c",
   "metadata": {},
   "outputs": [],
   "source": [
    "classifier = Sequential()"
   ]
  },
  {
   "cell_type": "markdown",
   "id": "cf192ff1-b8e2-47f3-b5e4-37192af4db6d",
   "metadata": {},
   "source": [
    "Step 1 Convolution"
   ]
  },
  {
   "cell_type": "code",
   "execution_count": 4,
   "id": "0eb6dd2d-4298-49ce-aaa0-c4210e3b3f26",
   "metadata": {},
   "outputs": [],
   "source": [
    "classifier.add(Conv2D(32 ,3 ,3, input_shape = (64, 64, 3), activation = 'relu'))"
   ]
  },
  {
   "cell_type": "markdown",
   "id": "aa52bbf5-6d43-448b-a2a9-c18858a7fe1d",
   "metadata": {},
   "source": [
    "Step 2 pooling"
   ]
  },
  {
   "cell_type": "code",
   "execution_count": 5,
   "id": "851bd31d-fe8e-47ee-b7b2-db5c26a45f18",
   "metadata": {},
   "outputs": [],
   "source": [
    "classifier.add(MaxPooling2D(pool_size = (2, 2)))"
   ]
  },
  {
   "cell_type": "markdown",
   "id": "37e04274-a8df-4f05-9585-5e9ed70ebb01",
   "metadata": {},
   "source": [
    "Step 3 flattening"
   ]
  },
  {
   "cell_type": "code",
   "execution_count": 6,
   "id": "9cdb21fc-783e-402a-b651-8e52a9f3d9d2",
   "metadata": {},
   "outputs": [],
   "source": [
    "classifier.add(Flatten())"
   ]
  },
  {
   "cell_type": "markdown",
   "id": "a037d520-e7b2-451d-992b-60f56cd197cd",
   "metadata": {},
   "source": [
    "step 4 full connection"
   ]
  },
  {
   "cell_type": "code",
   "execution_count": 8,
   "id": "9ae8ff51-1724-446f-a424-71a44ef49350",
   "metadata": {},
   "outputs": [],
   "source": [
    "classifier.add(Dense(units = 128, activation = 'relu'))"
   ]
  },
  {
   "cell_type": "code",
   "execution_count": 9,
   "id": "8b6b742c-cab3-44ee-8e0c-c139c9241f50",
   "metadata": {},
   "outputs": [],
   "source": [
    "classifier.add(Dense(units = 1, activation = 'sigmoid'))"
   ]
  },
  {
   "cell_type": "markdown",
   "id": "49380bb1-a703-4bd0-b8fb-1bf3477807e1",
   "metadata": {},
   "source": [
    "compile the CNN"
   ]
  },
  {
   "cell_type": "code",
   "execution_count": 29,
   "id": "7d606e67-9c0d-4fb3-8778-493e80812993",
   "metadata": {},
   "outputs": [],
   "source": [
    "classifier.compile(optimizer= 'adam', loss = 'binary_crossentropy', metrics = ['accuracy'])"
   ]
  },
  {
   "cell_type": "markdown",
   "id": "464dab12-e879-4a40-aa31-b314e649c46d",
   "metadata": {},
   "source": [
    "Part 2 - fitting the CNN to the Images"
   ]
  },
  {
   "cell_type": "code",
   "execution_count": 13,
   "id": "7a34bc60-2bb2-44ad-87d1-585b1fbf40b0",
   "metadata": {},
   "outputs": [],
   "source": [
    "from keras.preprocessing.image import ImageDataGenerator"
   ]
  },
  {
   "cell_type": "code",
   "execution_count": 14,
   "id": "e62523eb-012c-4820-93fd-a4e4b0835222",
   "metadata": {},
   "outputs": [],
   "source": [
    "#Processing the Training Set\n",
    "train_datagen = ImageDataGenerator(rescale = 1./255,\n",
    "                                   shear_range = 0.2,\n",
    "                                   zoom_range = 0.2,\n",
    "                                   horizontal_flip = True)"
   ]
  },
  {
   "cell_type": "code",
   "execution_count": 16,
   "id": "160c574c-2b49-49cb-a7c0-630a2644fae8",
   "metadata": {},
   "outputs": [],
   "source": [
    "test_datagen = ImageDataGenerator(rescale = 1./255)"
   ]
  },
  {
   "cell_type": "code",
   "execution_count": 48,
   "id": "e63a90f5-ecd7-4048-a4cc-422becc42543",
   "metadata": {},
   "outputs": [
    {
     "name": "stdout",
     "output_type": "stream",
     "text": [
      "Found 8000 images belonging to 2 classes.\n"
     ]
    }
   ],
   "source": [
    "#Processing the Test Set\n",
    "training_set = train_datagen.flow_from_directory('dataset/training_set',\n",
    "                                                 target_size = (64, 64),\n",
    "                                                 batch_size = 1,\n",
    "                                                 class_mode = 'binary')"
   ]
  },
  {
   "cell_type": "code",
   "execution_count": 49,
   "id": "3b786693-a69b-483f-b69e-caa45139ef0b",
   "metadata": {},
   "outputs": [
    {
     "name": "stdout",
     "output_type": "stream",
     "text": [
      "Found 2000 images belonging to 2 classes.\n"
     ]
    }
   ],
   "source": [
    "test_set = test_datagen.flow_from_directory('dataset/test_set',\n",
    "                                            target_size = (64, 64),\n",
    "                                            batch_size = 1,\n",
    "                                            class_mode = 'binary')"
   ]
  },
  {
   "cell_type": "code",
   "execution_count": 50,
   "id": "0d896a07-86c1-4d77-984b-d37be907db2b",
   "metadata": {
    "scrolled": true
   },
   "outputs": [
    {
     "name": "stdout",
     "output_type": "stream",
     "text": [
      "Epoch 1/25\n",
      "8000/8000 [==============================] - 94s 12ms/step - loss: 0.3667 - accuracy: 0.8385 - val_loss: 0.6235 - val_accuracy: 0.7655\n",
      "Epoch 2/25\n",
      "8000/8000 [==============================] - 104s 13ms/step - loss: 0.3611 - accuracy: 0.8376 - val_loss: 0.6359 - val_accuracy: 0.7350\n",
      "Epoch 3/25\n",
      "8000/8000 [==============================] - 101s 13ms/step - loss: 0.3593 - accuracy: 0.8375 - val_loss: 0.6561 - val_accuracy: 0.7455\n",
      "Epoch 4/25\n",
      "8000/8000 [==============================] - 88s 11ms/step - loss: 0.3489 - accuracy: 0.8471 - val_loss: 0.6249 - val_accuracy: 0.7580\n",
      "Epoch 5/25\n",
      "8000/8000 [==============================] - 95s 12ms/step - loss: 0.3586 - accuracy: 0.8376 - val_loss: 0.6715 - val_accuracy: 0.7530\n",
      "Epoch 6/25\n",
      "8000/8000 [==============================] - 105s 13ms/step - loss: 0.3518 - accuracy: 0.8447 - val_loss: 0.6537 - val_accuracy: 0.7675\n",
      "Epoch 7/25\n",
      "8000/8000 [==============================] - 101s 13ms/step - loss: 0.3463 - accuracy: 0.8500 - val_loss: 0.7457 - val_accuracy: 0.7350\n",
      "Epoch 8/25\n",
      "8000/8000 [==============================] - 106s 13ms/step - loss: 0.3442 - accuracy: 0.8469 - val_loss: 0.7249 - val_accuracy: 0.7355\n",
      "Epoch 9/25\n",
      "8000/8000 [==============================] - 109s 14ms/step - loss: 0.3250 - accuracy: 0.8600 - val_loss: 0.6630 - val_accuracy: 0.7455\n",
      "Epoch 10/25\n",
      "8000/8000 [==============================] - 109s 14ms/step - loss: 0.3368 - accuracy: 0.8556 - val_loss: 0.6540 - val_accuracy: 0.7640\n",
      "Epoch 11/25\n",
      "8000/8000 [==============================] - 111s 14ms/step - loss: 0.3389 - accuracy: 0.8583 - val_loss: 0.6603 - val_accuracy: 0.7430\n",
      "Epoch 12/25\n",
      "8000/8000 [==============================] - 114s 14ms/step - loss: 0.3224 - accuracy: 0.8574 - val_loss: 0.6722 - val_accuracy: 0.7440\n",
      "Epoch 13/25\n",
      "8000/8000 [==============================] - 110s 14ms/step - loss: 0.3122 - accuracy: 0.8662 - val_loss: 0.8777 - val_accuracy: 0.7235\n",
      "Epoch 14/25\n",
      "8000/8000 [==============================] - 112s 14ms/step - loss: 0.3169 - accuracy: 0.8671 - val_loss: 0.7548 - val_accuracy: 0.7495\n",
      "Epoch 15/25\n",
      "8000/8000 [==============================] - 114s 14ms/step - loss: 0.3209 - accuracy: 0.8626 - val_loss: 0.7908 - val_accuracy: 0.7385\n",
      "Epoch 16/25\n",
      "8000/8000 [==============================] - 111s 14ms/step - loss: 0.3235 - accuracy: 0.8634 - val_loss: 0.7333 - val_accuracy: 0.7510\n",
      "Epoch 17/25\n",
      "8000/8000 [==============================] - 111s 14ms/step - loss: 0.3052 - accuracy: 0.8687 - val_loss: 0.6880 - val_accuracy: 0.7520\n",
      "Epoch 18/25\n",
      "8000/8000 [==============================] - 117s 15ms/step - loss: 0.3090 - accuracy: 0.8679 - val_loss: 0.7981 - val_accuracy: 0.7465\n",
      "Epoch 19/25\n",
      "8000/8000 [==============================] - 114s 14ms/step - loss: 0.3020 - accuracy: 0.8737 - val_loss: 0.7883 - val_accuracy: 0.7515\n",
      "Epoch 20/25\n",
      "8000/8000 [==============================] - 115s 14ms/step - loss: 0.3076 - accuracy: 0.8690 - val_loss: 0.7484 - val_accuracy: 0.7515\n",
      "Epoch 21/25\n",
      "8000/8000 [==============================] - 114s 14ms/step - loss: 0.3020 - accuracy: 0.8716 - val_loss: 0.8018 - val_accuracy: 0.7495\n",
      "Epoch 22/25\n",
      "8000/8000 [==============================] - 115s 14ms/step - loss: 0.3070 - accuracy: 0.8676 - val_loss: 0.8687 - val_accuracy: 0.7455\n",
      "Epoch 23/25\n",
      "8000/8000 [==============================] - 118s 15ms/step - loss: 0.2986 - accuracy: 0.8739 - val_loss: 0.8008 - val_accuracy: 0.7485\n",
      "Epoch 24/25\n",
      "8000/8000 [==============================] - 119s 15ms/step - loss: 0.2920 - accuracy: 0.8756 - val_loss: 0.7572 - val_accuracy: 0.7580\n",
      "Epoch 25/25\n",
      "8000/8000 [==============================] - 115s 14ms/step - loss: 0.2748 - accuracy: 0.8835 - val_loss: 0.7812 - val_accuracy: 0.7430\n"
     ]
    },
    {
     "data": {
      "text/plain": [
       "<keras.src.callbacks.History at 0x235bfcc2950>"
      ]
     },
     "execution_count": 50,
     "metadata": {},
     "output_type": "execute_result"
    }
   ],
   "source": [
    "classifier.fit(training_set,\n",
    "                    steps_per_epoch= 8000/1,\n",
    "                    epochs = 25,\n",
    "                    validation_data = test_set,\n",
    "                    validation_steps= 2000/1\n",
    "              )"
   ]
  },
  {
   "cell_type": "code",
   "execution_count": null,
   "id": "ccce88e9-7c5d-4688-a8cb-4cae29010df3",
   "metadata": {},
   "outputs": [],
   "source": []
  }
 ],
 "metadata": {
  "kernelspec": {
   "display_name": "Python 3 (ipykernel)",
   "language": "python",
   "name": "python3"
  },
  "language_info": {
   "codemirror_mode": {
    "name": "ipython",
    "version": 3
   },
   "file_extension": ".py",
   "mimetype": "text/x-python",
   "name": "python",
   "nbconvert_exporter": "python",
   "pygments_lexer": "ipython3",
   "version": "3.11.4"
  }
 },
 "nbformat": 4,
 "nbformat_minor": 5
}
