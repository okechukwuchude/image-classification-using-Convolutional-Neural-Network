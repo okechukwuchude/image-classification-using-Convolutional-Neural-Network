{
 "cells": [
  {
   "cell_type": "code",
   "execution_count": 1,
   "id": "cedbc2bc-54a8-45a2-afba-8335bac9f875",
   "metadata": {},
   "outputs": [
    {
     "data": {
      "text/plain": [
       "'C:\\\\Users\\\\okechukwu chude\\\\Documents\\\\Neural Network\\\\Convolutional Neural Network\\\\Convolutional-Neural-Network'"
      ]
     },
     "execution_count": 1,
     "metadata": {},
     "output_type": "execute_result"
    }
   ],
   "source": [
    "pwd"
   ]
  },
  {
   "cell_type": "markdown",
   "id": "e8d2277a-dc78-48d9-a036-cd26cf19d163",
   "metadata": {},
   "source": [
    "Building The CNN"
   ]
  },
  {
   "cell_type": "code",
   "execution_count": 2,
   "id": "10c0ab76-3b71-4d80-8c4b-a218c967063d",
   "metadata": {},
   "outputs": [],
   "source": [
    "from keras.models import Sequential #required to initialise ann\n",
    "from keras.layers import Conv2D #required to add the convolution layers\n",
    "from keras.layers import MaxPooling2D #required to add pooling layers\n",
    "from keras.layers import Flatten\n",
    "from keras.layers import Dense # required to build laters of ann"
   ]
  },
  {
   "cell_type": "markdown",
   "id": "dc9f6be4-a12b-4b88-9942-7909cdfbfda7",
   "metadata": {},
   "source": [
    "Initializing the CNN"
   ]
  },
  {
   "cell_type": "code",
   "execution_count": 3,
   "id": "fab68263-b3b5-43be-b39e-90e07685331c",
   "metadata": {},
   "outputs": [],
   "source": [
    "classifier = Sequential()"
   ]
  },
  {
   "cell_type": "markdown",
   "id": "cf192ff1-b8e2-47f3-b5e4-37192af4db6d",
   "metadata": {},
   "source": [
    "Step 1 Convolution"
   ]
  },
  {
   "cell_type": "code",
   "execution_count": 4,
   "id": "0eb6dd2d-4298-49ce-aaa0-c4210e3b3f26",
   "metadata": {},
   "outputs": [],
   "source": [
    "classifier.add(Conv2D(32 ,3 ,3, input_shape = (64, 64, 3), activation = 'relu'))"
   ]
  },
  {
   "cell_type": "markdown",
   "id": "aa52bbf5-6d43-448b-a2a9-c18858a7fe1d",
   "metadata": {},
   "source": [
    "Step 2 pooling"
   ]
  },
  {
   "cell_type": "code",
   "execution_count": 5,
   "id": "851bd31d-fe8e-47ee-b7b2-db5c26a45f18",
   "metadata": {},
   "outputs": [],
   "source": [
    "classifier.add(MaxPooling2D(pool_size = (2, 2)))"
   ]
  },
  {
   "cell_type": "markdown",
   "id": "37e04274-a8df-4f05-9585-5e9ed70ebb01",
   "metadata": {},
   "source": [
    "Step 3 flattening"
   ]
  },
  {
   "cell_type": "code",
   "execution_count": 6,
   "id": "9cdb21fc-783e-402a-b651-8e52a9f3d9d2",
   "metadata": {},
   "outputs": [],
   "source": [
    "classifier.add(Flatten())"
   ]
  },
  {
   "cell_type": "markdown",
   "id": "a037d520-e7b2-451d-992b-60f56cd197cd",
   "metadata": {},
   "source": [
    "step 4 full connection"
   ]
  },
  {
   "cell_type": "code",
   "execution_count": 8,
   "id": "9ae8ff51-1724-446f-a424-71a44ef49350",
   "metadata": {},
   "outputs": [],
   "source": [
    "classifier.add(Dense(units = 128, activation = 'relu'))"
   ]
  },
  {
   "cell_type": "code",
   "execution_count": 9,
   "id": "8b6b742c-cab3-44ee-8e0c-c139c9241f50",
   "metadata": {},
   "outputs": [],
   "source": [
    "classifier.add(Dense(units = 1, activation = 'sigmoid'))"
   ]
  },
  {
   "cell_type": "markdown",
   "id": "49380bb1-a703-4bd0-b8fb-1bf3477807e1",
   "metadata": {},
   "source": [
    "compile the CNN"
   ]
  },
  {
   "cell_type": "code",
   "execution_count": 12,
   "id": "7d606e67-9c0d-4fb3-8778-493e80812993",
   "metadata": {},
   "outputs": [],
   "source": [
    "classifier.compile(optimizer= 'adam', loss = 'binary_crossenthropy', metrics = ['accuracy'])"
   ]
  },
  {
   "cell_type": "code",
   "execution_count": null,
   "id": "4d5ecbfc-01f7-4a91-9615-808e6b1222ff",
   "metadata": {},
   "outputs": [],
   "source": []
  }
 ],
 "metadata": {
  "kernelspec": {
   "display_name": "Python 3 (ipykernel)",
   "language": "python",
   "name": "python3"
  },
  "language_info": {
   "codemirror_mode": {
    "name": "ipython",
    "version": 3
   },
   "file_extension": ".py",
   "mimetype": "text/x-python",
   "name": "python",
   "nbconvert_exporter": "python",
   "pygments_lexer": "ipython3",
   "version": "3.11.4"
  }
 },
 "nbformat": 4,
 "nbformat_minor": 5
}
